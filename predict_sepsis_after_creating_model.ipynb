{
 "cells": [
  {
   "cell_type": "code",
   "execution_count": 1,
   "id": "stock-disabled",
   "metadata": {},
   "outputs": [],
   "source": [
    "from tensorflow.keras.models import load_model\n",
    "detector = load_model('sepsis.model')"
   ]
  },
  {
   "cell_type": "code",
   "execution_count": 5,
   "id": "limiting-oliver",
   "metadata": {},
   "outputs": [],
   "source": [
    "import math\n",
    "import pandas as pd\n",
    "\n",
    "import numpy as np\n",
    "import tensorflow as tf\n",
    "from sklearn.preprocessing import MinMaxScaler, StandardScaler\n",
    "from sklearn.metrics import confusion_matrix, f1_score, recall_score, precision_score\n"
   ]
  },
  {
   "cell_type": "code",
   "execution_count": 6,
   "id": "senior-pixel",
   "metadata": {},
   "outputs": [],
   "source": [
    "sepsis_dataset = pd.read_csv(\"dataset_sepsis.csv\")\n"
   ]
  },
  {
   "cell_type": "code",
   "execution_count": 7,
   "id": "chronic-penalty",
   "metadata": {},
   "outputs": [
    {
     "name": "stdout",
     "output_type": "stream",
     "text": [
      "[[13929    71]\n",
      " [  737   801]]\n",
      "f1_score\t:0.664730\n",
      "recall_score\t:0.520806\n",
      "precision_score\t:0.918578\n"
     ]
    }
   ],
   "source": [
    "X = sepsis_dataset.iloc[:,6:-2]\n",
    "y_true = sepsis_dataset.iloc[:,3]\n",
    "X = MinMaxScaler().fit_transform(X.values)\n",
    "y_pred = detector.predict(X)\n",
    "y_pred = np.round(y_pred)\n",
    "print(confusion_matrix(y_true,y_pred))\n",
    "print(\"f1_score\\t:%f\"%(f1_score(y_true,y_pred)))\n",
    "print(\"recall_score\\t:%f\"%(recall_score(y_true,y_pred)))\n",
    "print(\"precision_score\\t:%f\"%(precision_score(y_true,y_pred)))"
   ]
  },
  {
   "cell_type": "code",
   "execution_count": null,
   "id": "olympic-convertible",
   "metadata": {},
   "outputs": [],
   "source": []
  }
 ],
 "metadata": {
  "kernelspec": {
   "display_name": "Python 3",
   "language": "python",
   "name": "python3"
  },
  "language_info": {
   "codemirror_mode": {
    "name": "ipython",
    "version": 3
   },
   "file_extension": ".py",
   "mimetype": "text/x-python",
   "name": "python",
   "nbconvert_exporter": "python",
   "pygments_lexer": "ipython3",
   "version": "3.8.5"
  }
 },
 "nbformat": 4,
 "nbformat_minor": 5
}
